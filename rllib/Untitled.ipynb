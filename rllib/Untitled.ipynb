{
 "cells": [
  {
   "cell_type": "code",
   "execution_count": 17,
   "id": "6be9f7ae-e560-4874-9aae-2b90b3629b22",
   "metadata": {},
   "outputs": [],
   "source": [
    "def maxArea(height):\n",
    "    res = 0\n",
    "    l,r = 0, len(height)-1\n",
    "\n",
    "    while l<r:\n",
    "        area = (r-l) * min(height[l], height[r])\n",
    "        res = max(res,area)\n",
    "\n",
    "        if height[l] < height[r]:\n",
    "            l+=1\n",
    "        else:\n",
    "            r-=1\n",
    "\n",
    "    return res"
   ]
  },
  {
   "cell_type": "code",
   "execution_count": 18,
   "id": "19539ab3-2774-4eae-9b88-466cf545ba75",
   "metadata": {},
   "outputs": [],
   "source": [
    "a = [100, 1,8,6,2,5,4,8,3,7]"
   ]
  },
  {
   "cell_type": "code",
   "execution_count": 19,
   "id": "8318ff97-8b0f-4dfa-969a-c5057595a342",
   "metadata": {},
   "outputs": [
    {
     "data": {
      "text/plain": [
       "63"
      ]
     },
     "execution_count": 19,
     "metadata": {},
     "output_type": "execute_result"
    }
   ],
   "source": [
    "maxArea(a)"
   ]
  },
  {
   "cell_type": "code",
   "execution_count": 66,
   "id": "46c0cd36-432a-40d6-88ad-0358edf9fc4e",
   "metadata": {},
   "outputs": [
    {
     "name": "stdout",
     "output_type": "stream",
     "text": [
      "{'a': 1,\n",
      " 'e': 2,\n",
      " 'f': 1,\n",
      " 'g': 2,\n",
      " 'i': 1,\n",
      " 'l': 2,\n",
      " 'n': 2,\n",
      " 'r': 1,\n",
      " 'u': 1,\n",
      " 'v': 1,\n",
      " 'x': 1,\n",
      " 'y': 1,\n",
      " 'z': 3}\n"
     ]
    }
   ],
   "source": [
    "import pprint\n",
    "list = ['reflexly', 'unageing', 'vinegary', 'zzz']\n",
    "counts = {}\n",
    "for i in range(26):\n",
    "    c = chr(ord('a') + i)\n",
    "    for w in list:\n",
    "        if c in w:\n",
    "            counts[c] = max(counts.get(c, 0), w.count(c))\n",
    "pprint.pprint(counts)"
   ]
  },
  {
   "cell_type": "code",
   "execution_count": 26,
   "id": "455504ed-63a3-4e3d-98f7-3b0ce6221b7b",
   "metadata": {},
   "outputs": [
    {
     "data": {
      "text/plain": [
       "0"
      ]
     },
     "execution_count": 26,
     "metadata": {},
     "output_type": "execute_result"
    }
   ],
   "source": [
    "c"
   ]
  },
  {
   "cell_type": "code",
   "execution_count": 32,
   "id": "6a0f9751-03e3-40a8-82b3-48f85ba0958e",
   "metadata": {},
   "outputs": [
    {
     "name": "stdout",
     "output_type": "stream",
     "text": [
      "\u001a\n"
     ]
    }
   ],
   "source": [
    "print(chr(26))"
   ]
  },
  {
   "cell_type": "code",
   "execution_count": 39,
   "id": "9c786abb-a7ce-4213-a8e4-d5205ef1c8f9",
   "metadata": {},
   "outputs": [
    {
     "name": "stdout",
     "output_type": "stream",
     "text": [
      "input(1) + input(2)\n"
     ]
    },
    {
     "name": "stdin",
     "output_type": "stream",
     "text": [
      " 11\n",
      " 12\n"
     ]
    },
    {
     "name": "stdout",
     "output_type": "stream",
     "text": [
      "23.0\n"
     ]
    }
   ],
   "source": [
    "t, a, b = print(\"input(1) + input(2)\"), float(input()), float(input()) \n",
    "print(a + b)"
   ]
  },
  {
   "cell_type": "code",
   "execution_count": 56,
   "id": "4e3226ab-9a0f-4f1d-b7d6-11b61242623b",
   "metadata": {},
   "outputs": [
    {
     "name": "stdin",
     "output_type": "stream",
     "text": [
      "input your first number ([q] to quit) 1\n",
      "input your second number ([q] to quit) 2\n"
     ]
    },
    {
     "name": "stdout",
     "output_type": "stream",
     "text": [
      "3.0\n"
     ]
    }
   ],
   "source": [
    "numbers = []\n",
    "while len(numbers) != 2:\n",
    "    try:\n",
    "        a = input('input your first number ([q] to quit)')\n",
    "        if a == 'q':\n",
    "            print('you chose to quit')\n",
    "            break\n",
    "        numbers.append(float(a))\n",
    "        \n",
    "        b = input('input your second number ([q] to quit)')\n",
    "        if b == 'q':\n",
    "            print('you chose to quit')\n",
    "            break\n",
    "        numbers.append(float(b))\n",
    "    except:\n",
    "        print('input error')\n",
    "        break\n",
    "            \n",
    "        \n",
    "    print(sum(numbers))"
   ]
  },
  {
   "cell_type": "code",
   "execution_count": 47,
   "id": "f15a9ba1-ed5f-426c-9ae3-242f7b5e6b3c",
   "metadata": {},
   "outputs": [
    {
     "data": {
      "text/plain": [
       "[11.0, 11.0]"
      ]
     },
     "execution_count": 47,
     "metadata": {},
     "output_type": "execute_result"
    }
   ],
   "source": [
    "numbers"
   ]
  },
  {
   "cell_type": "code",
   "execution_count": 57,
   "id": "36b330de-1b45-4f08-b70c-45c11beb3f6c",
   "metadata": {},
   "outputs": [
    {
     "data": {
      "text/plain": [
       "2"
      ]
     },
     "execution_count": 57,
     "metadata": {},
     "output_type": "execute_result"
    }
   ],
   "source": [
    "'abacus'.count('a')"
   ]
  },
  {
   "cell_type": "code",
   "execution_count": 68,
   "id": "68cde93e-430c-4647-b23f-2e6c24e37b87",
   "metadata": {},
   "outputs": [
    {
     "name": "stdin",
     "output_type": "stream",
     "text": [
      "CtF or FtC:  FtC\n",
      " 11\n"
     ]
    },
    {
     "name": "stdout",
     "output_type": "stream",
     "text": [
      "-11.666666666666666°C\n"
     ]
    }
   ],
   "source": [
    "typ = input(\"CtF or FtC: \")\n",
    "if typ == \"CtF\":\n",
    "    print(str(float(input()) * (9/5) + 32) + (\"°F\"))\n",
    "elif typ == \"FtC\":\n",
    "    print(str((float(input()) - 32) * 5/9) + (\"°C\"))\n",
    "else:\n",
    "    print(\"invalid\")"
   ]
  },
  {
   "cell_type": "code",
   "execution_count": null,
   "id": "ccf9e948-1cba-4ecd-990e-4571429bbbe3",
   "metadata": {},
   "outputs": [],
   "source": []
  }
 ],
 "metadata": {
  "kernelspec": {
   "display_name": "Python 3 (ipykernel)",
   "language": "python",
   "name": "python3"
  },
  "language_info": {
   "codemirror_mode": {
    "name": "ipython",
    "version": 3
   },
   "file_extension": ".py",
   "mimetype": "text/x-python",
   "name": "python",
   "nbconvert_exporter": "python",
   "pygments_lexer": "ipython3",
   "version": "3.10.6"
  }
 },
 "nbformat": 4,
 "nbformat_minor": 5
}
