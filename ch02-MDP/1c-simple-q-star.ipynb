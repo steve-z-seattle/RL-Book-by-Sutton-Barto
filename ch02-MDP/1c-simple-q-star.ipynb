{
 "cells": [
  {
   "cell_type": "code",
   "execution_count": 1,
   "id": "2f685e89-688d-4bc8-a89c-d167b8c005bc",
   "metadata": {},
   "outputs": [],
   "source": [
    "%load_ext autoreload\n",
    "%autoreload 2"
   ]
  },
  {
   "cell_type": "code",
   "execution_count": 2,
   "id": "eea424bd-ab4a-45ca-8a6d-ada7f3aef18f",
   "metadata": {},
   "outputs": [],
   "source": [
    "import numpy as np\n",
    "import pandas as pd\n",
    "import matplotlib.pyplot as plt\n",
    "from IPython.display import display, display_html\n",
    "from tqdm import tqdm"
   ]
  },
  {
   "cell_type": "code",
   "execution_count": 3,
   "id": "6e2215d0-c843-4e60-8cec-ef5a40adfed6",
   "metadata": {},
   "outputs": [],
   "source": [
    "import sys\n",
    "sys.path.append(\"..\")\n",
    "from rllib.student import student\n",
    "from rllib.dp import dp\n",
    "from rllib.linear_solver import linear_solver\n",
    "from rllib import misc"
   ]
  },
  {
   "cell_type": "markdown",
   "id": "75d360c9-b032-474d-8c8e-0a7e0b8024ab",
   "metadata": {},
   "source": [
    "# define MDP"
   ]
  },
  {
   "cell_type": "code",
   "execution_count": 4,
   "id": "1a87971b-8108-4b73-b4ed-271712692697",
   "metadata": {},
   "outputs": [],
   "source": [
    "o = student()"
   ]
  },
  {
   "cell_type": "markdown",
   "id": "b627beba-db82-4e3c-a7c5-190b99e8a8ce",
   "metadata": {},
   "source": [
    "# Solve q*(s,a)"
   ]
  },
  {
   "cell_type": "code",
   "execution_count": 6,
   "id": "f35c38e1-c3d8-48dc-beb7-29917907c980",
   "metadata": {},
   "outputs": [
    {
     "name": "stderr",
     "output_type": "stream",
     "text": [
      "100%|████████████████████████████████████████████████████████████████████████████████████████| 50000/50000 [00:04<00:00, 10510.06it/s]\n"
     ]
    }
   ],
   "source": [
    "hist = []\n",
    "result_max = None\n",
    "for i in tqdm(range(50_000)):\n",
    "    a0, a1, a2, a3 = np.random.random(4)\n",
    "    o.Π[0,o.A.index('study')] = a0\n",
    "    o.Π[0,o.A.index('facebook')] = 1 - a0\n",
    "    o.Π[1,o.A.index('study')] = a1\n",
    "    o.Π[1,o.A.index('sleep')] = 1 - a1\n",
    "    o.Π[2,o.A.index('pub')] = a2\n",
    "    o.Π[2,o.A.index('study')] = 1 - a2\n",
    "    o.Π[3,o.A.index('facebook')] = a3\n",
    "    o.Π[3,o.A.index('quit')] = 1 - a3\n",
    "    # run\n",
    "    tmp_res = linear_solver.q_linear_solver(o, 1-0.1**10)\n",
    "    if result_max is None:\n",
    "        result_max = tmp_res\n",
    "    else:\n",
    "        result_max = np.maximum(result_max, np.array(tmp_res))\n",
    "        tmp_hist = []\n",
    "        for i in range(result_max.shape[0]):\n",
    "            for j in range(result_max.shape[1]):\n",
    "                if o.Π[i,j] != 0:\n",
    "                    tmp_hist.append(result_max[i,j])\n",
    "        hist.append(tmp_hist)"
   ]
  },
  {
   "cell_type": "markdown",
   "id": "18afd0cf-5f0b-4a58-b7ca-583c4f88badf",
   "metadata": {},
   "source": [
    "# Plot"
   ]
  },
  {
   "cell_type": "code",
   "execution_count": 7,
   "id": "d15dd80f-f150-4904-84c9-5dda2734a3ee",
   "metadata": {},
   "outputs": [],
   "source": [
    "dfx = pd.DataFrame(hist, columns=[\n",
    "    'class1 facebook', \n",
    "    'class1 study', \n",
    "    \n",
    "    'class2 study', \n",
    "    'class2 sleep', \n",
    "    \n",
    "    'class3 study',\n",
    "    'class3 pub',\n",
    "    \n",
    "    'fb facebook',\n",
    "    'fb quit',\n",
    "    \n",
    "    'sleep other',\n",
    "])"
   ]
  },
  {
   "cell_type": "code",
   "execution_count": null,
   "id": "92ab9b44-bac9-46ad-a389-b56c1a7c293c",
   "metadata": {},
   "outputs": [],
   "source": []
  },
  {
   "cell_type": "code",
   "execution_count": 8,
   "id": "850f3d48-e2b6-48a5-917a-92e9e28d49ae",
   "metadata": {},
   "outputs": [],
   "source": [
    "df1 = pd.DataFrame(result_max, index=['class1', 'class2', 'class3', 'fb', 'sleep'])\n",
    "df1.columns = ['facebook', 'quit', 'study', 'sleep', 'pub', 'other']"
   ]
  },
  {
   "cell_type": "code",
   "execution_count": null,
   "id": "731d859b-a029-4477-8a77-a1a2459599fa",
   "metadata": {},
   "outputs": [],
   "source": []
  },
  {
   "cell_type": "code",
   "execution_count": 9,
   "id": "8d5fd852-dce7-4fea-8862-34027f61e015",
   "metadata": {},
   "outputs": [],
   "source": [
    "df2 = pd.DataFrame(np.max(result_max, axis=1), index=['class1', 'class2', 'class3', 'fb', 'sleep'])"
   ]
  },
  {
   "cell_type": "code",
   "execution_count": null,
   "id": "6ecef915-1531-48a8-b8da-14d6306f5a88",
   "metadata": {},
   "outputs": [],
   "source": []
  },
  {
   "cell_type": "code",
   "execution_count": 10,
   "id": "ac480094-2467-45b8-bb44-2658c24c0693",
   "metadata": {},
   "outputs": [
    {
     "data": {
      "text/html": [
       "<style type=\"text/css\">\n",
       "#T_03b91_row0_col0, #T_03b91_row0_col2, #T_03b91_row2_col2, #T_03b91_row2_col4, #T_03b91_row4_col5 {\n",
       "  background-color: lime;\n",
       "}\n",
       "#T_03b91_row1_col2, #T_03b91_row1_col3, #T_03b91_row3_col0, #T_03b91_row3_col1 {\n",
       "  background-color: yellow;\n",
       "}\n",
       "</style>\n",
       "<table id=\"T_03b91\" style='display:inline'>\n",
       "  <caption>Q*(s,a)</caption>\n",
       "  <thead>\n",
       "    <tr>\n",
       "      <th class=\"blank level0\" >&nbsp;</th>\n",
       "      <th id=\"T_03b91_level0_col0\" class=\"col_heading level0 col0\" >facebook</th>\n",
       "      <th id=\"T_03b91_level0_col1\" class=\"col_heading level0 col1\" >quit</th>\n",
       "      <th id=\"T_03b91_level0_col2\" class=\"col_heading level0 col2\" >study</th>\n",
       "      <th id=\"T_03b91_level0_col3\" class=\"col_heading level0 col3\" >sleep</th>\n",
       "      <th id=\"T_03b91_level0_col4\" class=\"col_heading level0 col4\" >pub</th>\n",
       "      <th id=\"T_03b91_level0_col5\" class=\"col_heading level0 col5\" >other</th>\n",
       "    </tr>\n",
       "  </thead>\n",
       "  <tbody>\n",
       "    <tr>\n",
       "      <th id=\"T_03b91_level0_row0\" class=\"row_heading level0 row0\" >class1</th>\n",
       "      <td id=\"T_03b91_row0_col0\" class=\"data row0 col0\" >4.8</td>\n",
       "      <td id=\"T_03b91_row0_col1\" class=\"data row0 col1\" >0.0</td>\n",
       "      <td id=\"T_03b91_row0_col2\" class=\"data row0 col2\" >6.0</td>\n",
       "      <td id=\"T_03b91_row0_col3\" class=\"data row0 col3\" >0.0</td>\n",
       "      <td id=\"T_03b91_row0_col4\" class=\"data row0 col4\" >0.0</td>\n",
       "      <td id=\"T_03b91_row0_col5\" class=\"data row0 col5\" >0.0</td>\n",
       "    </tr>\n",
       "    <tr>\n",
       "      <th id=\"T_03b91_level0_row1\" class=\"row_heading level0 row1\" >class2</th>\n",
       "      <td id=\"T_03b91_row1_col0\" class=\"data row1 col0\" >0.0</td>\n",
       "      <td id=\"T_03b91_row1_col1\" class=\"data row1 col1\" >0.0</td>\n",
       "      <td id=\"T_03b91_row1_col2\" class=\"data row1 col2\" >8.0</td>\n",
       "      <td id=\"T_03b91_row1_col3\" class=\"data row1 col3\" >0.0</td>\n",
       "      <td id=\"T_03b91_row1_col4\" class=\"data row1 col4\" >0.0</td>\n",
       "      <td id=\"T_03b91_row1_col5\" class=\"data row1 col5\" >0.0</td>\n",
       "    </tr>\n",
       "    <tr>\n",
       "      <th id=\"T_03b91_level0_row2\" class=\"row_heading level0 row2\" >class3</th>\n",
       "      <td id=\"T_03b91_row2_col0\" class=\"data row2 col0\" >0.0</td>\n",
       "      <td id=\"T_03b91_row2_col1\" class=\"data row2 col1\" >0.0</td>\n",
       "      <td id=\"T_03b91_row2_col2\" class=\"data row2 col2\" >10.0</td>\n",
       "      <td id=\"T_03b91_row2_col3\" class=\"data row2 col3\" >0.0</td>\n",
       "      <td id=\"T_03b91_row2_col4\" class=\"data row2 col4\" >9.3</td>\n",
       "      <td id=\"T_03b91_row2_col5\" class=\"data row2 col5\" >0.0</td>\n",
       "    </tr>\n",
       "    <tr>\n",
       "      <th id=\"T_03b91_level0_row3\" class=\"row_heading level0 row3\" >fb</th>\n",
       "      <td id=\"T_03b91_row3_col0\" class=\"data row3 col0\" >4.8</td>\n",
       "      <td id=\"T_03b91_row3_col1\" class=\"data row3 col1\" >5.9</td>\n",
       "      <td id=\"T_03b91_row3_col2\" class=\"data row3 col2\" >0.0</td>\n",
       "      <td id=\"T_03b91_row3_col3\" class=\"data row3 col3\" >0.0</td>\n",
       "      <td id=\"T_03b91_row3_col4\" class=\"data row3 col4\" >0.0</td>\n",
       "      <td id=\"T_03b91_row3_col5\" class=\"data row3 col5\" >0.0</td>\n",
       "    </tr>\n",
       "    <tr>\n",
       "      <th id=\"T_03b91_level0_row4\" class=\"row_heading level0 row4\" >sleep</th>\n",
       "      <td id=\"T_03b91_row4_col0\" class=\"data row4 col0\" >0.0</td>\n",
       "      <td id=\"T_03b91_row4_col1\" class=\"data row4 col1\" >0.0</td>\n",
       "      <td id=\"T_03b91_row4_col2\" class=\"data row4 col2\" >0.0</td>\n",
       "      <td id=\"T_03b91_row4_col3\" class=\"data row4 col3\" >0.0</td>\n",
       "      <td id=\"T_03b91_row4_col4\" class=\"data row4 col4\" >0.0</td>\n",
       "      <td id=\"T_03b91_row4_col5\" class=\"data row4 col5\" >0.0</td>\n",
       "    </tr>\n",
       "  </tbody>\n",
       "</table>\n",
       "<style type=\"text/css\">\n",
       "#T_5671c_row0_col0, #T_5671c_row2_col0, #T_5671c_row4_col0 {\n",
       "  background-color: lime;\n",
       "}\n",
       "#T_5671c_row1_col0, #T_5671c_row3_col0 {\n",
       "  background-color: yellow;\n",
       "}\n",
       "</style>\n",
       "<table id=\"T_5671c\" style='display:inline'>\n",
       "  <caption>V*(s)</caption>\n",
       "  <thead>\n",
       "    <tr>\n",
       "      <th id=\"T_5671c_level0_col0\" class=\"col_heading level0 col0\" >0</th>\n",
       "    </tr>\n",
       "  </thead>\n",
       "  <tbody>\n",
       "    <tr>\n",
       "      <td id=\"T_5671c_row0_col0\" class=\"data row0 col0\" >6.0</td>\n",
       "    </tr>\n",
       "    <tr>\n",
       "      <td id=\"T_5671c_row1_col0\" class=\"data row1 col0\" >8.0</td>\n",
       "    </tr>\n",
       "    <tr>\n",
       "      <td id=\"T_5671c_row2_col0\" class=\"data row2 col0\" >10.0</td>\n",
       "    </tr>\n",
       "    <tr>\n",
       "      <td id=\"T_5671c_row3_col0\" class=\"data row3 col0\" >5.9</td>\n",
       "    </tr>\n",
       "    <tr>\n",
       "      <td id=\"T_5671c_row4_col0\" class=\"data row4 col0\" >0.0</td>\n",
       "    </tr>\n",
       "  </tbody>\n",
       "</table>\n"
      ]
     },
     "metadata": {},
     "output_type": "display_data"
    },
    {
     "data": {
      "image/png": "[encoded data removed]",
      "text/plain": [
       "<Figure size 460x400 with 1 Axes>"
      ]
     },
     "metadata": {},
     "output_type": "display_data"
    }
   ],
   "source": [
    "df1_styler = df1.style.apply(misc.color_positive_green, mask=o.Π, axis=None)\\\n",
    "    .format(precision=1)\\\n",
    "    .set_table_attributes(\"style='display:inline'\")\\\n",
    "    .set_caption('Q*(s,a)')\n",
    "df2_styler = df2.style.apply(misc.color_positive_green_vertical, axis=None)\\\n",
    "    .format(precision=1)\\\n",
    "    .hide(axis='index')\\\n",
    "    .set_table_attributes(\"style='display:inline'\")\\\n",
    "    .set_caption('V*(s)')\n",
    "\n",
    "display_html(df1_styler._repr_html_()+df2_styler._repr_html_(), raw=True)\n",
    "\n",
    "fig, ax = plt.subplots(1,figsize=(4.6, 4))\n",
    "# dfx[:40_000].plot(grid=True, ax=ax)\n",
    "dfx.plot(grid=True, ax=ax)\n",
    "ax.set_xscale('log')\n",
    "plt.ylim(bottom=-1)\n",
    "plt.legend(loc='center left', bbox_to_anchor=(1, 0.5))\n",
    "plt.show()"
   ]
  },
  {
   "cell_type": "code",
   "execution_count": null,
   "id": "4c038c3c-0768-41c1-9e08-5cc5d4bb2ef3",
   "metadata": {},
   "outputs": [],
   "source": []
  }
 ],
 "metadata": {
  "kernelspec": {
   "display_name": "Python 3 (ipykernel)",
   "language": "python",
   "name": "python3"
  },
  "language_info": {
   "codemirror_mode": {
    "name": "ipython",
    "version": 3
   },
   "file_extension": ".py",
   "mimetype": "text/x-python",
   "name": "python",
   "nbconvert_exporter": "python",
   "pygments_lexer": "ipython3",
   "version": "3.10.6"
  }
 },
 "nbformat": 4,
 "nbformat_minor": 5
}
