{
 "cells": [
  {
   "cell_type": "code",
   "execution_count": 1,
   "id": "b8ebd71d-c82e-4367-b3c3-a2473134e9d8",
   "metadata": {},
   "outputs": [],
   "source": [
    "%load_ext autoreload\n",
    "%autoreload 2"
   ]
  },
  {
   "cell_type": "code",
   "execution_count": 2,
   "id": "8eff2809-25e3-4f31-9ed7-9c961b0a8bc1",
   "metadata": {},
   "outputs": [],
   "source": [
    "import numpy as np\n",
    "import pandas as pd\n",
    "import matplotlib.pyplot as plt\n",
    "from IPython.display import display, display_html\n",
    "from tqdm import tqdm"
   ]
  },
  {
   "cell_type": "code",
   "execution_count": 3,
   "id": "6e2215d0-c843-4e60-8cec-ef5a40adfed6",
   "metadata": {},
   "outputs": [],
   "source": [
    "import sys\n",
    "sys.path.append(\"..\")\n",
    "from rllib.student import student\n",
    "from rllib.dp import dp\n",
    "from rllib.linear_solver import linear_solver\n",
    "from rllib import misc"
   ]
  },
  {
   "cell_type": "markdown",
   "id": "75d360c9-b032-474d-8c8e-0a7e0b8024ab",
   "metadata": {},
   "source": [
    "# define MDP"
   ]
  },
  {
   "cell_type": "code",
   "execution_count": 5,
   "id": "1a87971b-8108-4b73-b4ed-271712692697",
   "metadata": {},
   "outputs": [],
   "source": [
    "o = student()"
   ]
  },
  {
   "cell_type": "markdown",
   "id": "b627beba-db82-4e3c-a7c5-190b99e8a8ce",
   "metadata": {},
   "source": [
    "# Solve v*(s)"
   ]
  },
  {
   "cell_type": "code",
   "execution_count": 7,
   "id": "1d5231a8-c134-4a0b-bcbd-b0e534eefbbb",
   "metadata": {},
   "outputs": [
    {
     "name": "stderr",
     "output_type": "stream",
     "text": [
      "100%|████████████████████████████████████████████████████████████████████████████████████████| 50000/50000 [00:02<00:00, 23439.35it/s]\n"
     ]
    }
   ],
   "source": [
    "hist = []\n",
    "result_max = None\n",
    "for i in tqdm(range(50_000)):\n",
    "    a0, a1, a2, a3 = np.random.random(4)\n",
    "    o.Π[0,o.A.index('study')] = a0\n",
    "    o.Π[0,o.A.index('facebook')] = 1 - a0\n",
    "    o.Π[1,o.A.index('study')] = a1\n",
    "    o.Π[1,o.A.index('sleep')] = 1 - a1\n",
    "    o.Π[2,o.A.index('pub')] = a2\n",
    "    o.Π[2,o.A.index('study')] = 1 - a2\n",
    "    o.Π[3,o.A.index('facebook')] = a3\n",
    "    o.Π[3,o.A.index('quit')] = 1 - a3\n",
    "    # run\n",
    "    tmp = linear_solver.value_linear_solver(o, 1-0.1**10)\n",
    "    if result_max is None:\n",
    "        result_max = tmp\n",
    "    else:\n",
    "        result_max = np.maximum(result_max, np.array(tmp))\n",
    "        hist.append(result_max.copy())"
   ]
  },
  {
   "cell_type": "markdown",
   "id": "18afd0cf-5f0b-4a58-b7ca-583c4f88badf",
   "metadata": {},
   "source": [
    "# Plot"
   ]
  },
  {
   "cell_type": "code",
   "execution_count": 8,
   "id": "af4125a2-8129-471c-ac9a-a16b85ff80f0",
   "metadata": {},
   "outputs": [
    {
     "data": {
      "text/html": [
       "<style type=\"text/css\">\n",
       "#T_61669_row0_col0, #T_61669_row0_col2 {\n",
       "  background-color: lime;\n",
       "}\n",
       "</style>\n",
       "<table id=\"T_61669\">\n",
       "  <caption>V*(s)</caption>\n",
       "  <thead>\n",
       "    <tr>\n",
       "      <th id=\"T_61669_level0_col0\" class=\"col_heading level0 col0\" >class1</th>\n",
       "      <th id=\"T_61669_level0_col1\" class=\"col_heading level0 col1\" >class2</th>\n",
       "      <th id=\"T_61669_level0_col2\" class=\"col_heading level0 col2\" >class3</th>\n",
       "      <th id=\"T_61669_level0_col3\" class=\"col_heading level0 col3\" >fb</th>\n",
       "      <th id=\"T_61669_level0_col4\" class=\"col_heading level0 col4\" >sleep</th>\n",
       "    </tr>\n",
       "  </thead>\n",
       "  <tbody>\n",
       "    <tr>\n",
       "      <td id=\"T_61669_row0_col0\" class=\"data row0 col0\" >5.9</td>\n",
       "      <td id=\"T_61669_row0_col1\" class=\"data row0 col1\" >8.0</td>\n",
       "      <td id=\"T_61669_row0_col2\" class=\"data row0 col2\" >10.0</td>\n",
       "      <td id=\"T_61669_row0_col3\" class=\"data row0 col3\" >5.8</td>\n",
       "      <td id=\"T_61669_row0_col4\" class=\"data row0 col4\" >0.0</td>\n",
       "    </tr>\n",
       "  </tbody>\n",
       "</table>\n"
      ],
      "text/plain": [
       "<pandas.io.formats.style.Styler at 0x11bde9510>"
      ]
     },
     "metadata": {},
     "output_type": "display_data"
    },
    {
     "data": {
      "image/png": "[encoded data removed]",
      "text/plain": [
       "<Figure size 460x400 with 1 Axes>"
      ]
     },
     "metadata": {},
     "output_type": "display_data"
    }
   ],
   "source": [
    "df = pd.DataFrame(hist, columns=['class1', 'class2', 'class3', 'fb', 'sleep'])\n",
    "display(df[-1:].style.apply(misc.color_positive_green, mask=o.Π, axis=None)\\\n",
    "    .hide(axis='index').format(precision=1)\\\n",
    "    .set_caption('V*(s)'))\n",
    "\n",
    "fig, ax = plt.subplots(1,figsize=(4.6, 4))\n",
    "df.plot(grid=True, ax=ax)\n",
    "ax.set_xscale('log')\n",
    "plt.legend(loc='center left', bbox_to_anchor=(1, 0.5))\n",
    "plt.show()"
   ]
  },
  {
   "cell_type": "code",
   "execution_count": null,
   "id": "856ffe7b-32f2-44f9-89ae-7947f8ed4a8a",
   "metadata": {},
   "outputs": [],
   "source": []
  }
 ],
 "metadata": {
  "kernelspec": {
   "display_name": "Python 3 (ipykernel)",
   "language": "python",
   "name": "python3"
  },
  "language_info": {
   "codemirror_mode": {
    "name": "ipython",
    "version": 3
   },
   "file_extension": ".py",
   "mimetype": "text/x-python",
   "name": "python",
   "nbconvert_exporter": "python",
   "pygments_lexer": "ipython3",
   "version": "3.10.6"
  }
 },
 "nbformat": 4,
 "nbformat_minor": 5
}
