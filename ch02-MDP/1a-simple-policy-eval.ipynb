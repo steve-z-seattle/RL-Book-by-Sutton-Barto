{
 "cells": [
  {
   "cell_type": "code",
   "execution_count": 1,
   "id": "95da65a8-d24b-47ec-b141-14bd12372d0c",
   "metadata": {},
   "outputs": [],
   "source": [
    "%load_ext autoreload\n",
    "%autoreload 2"
   ]
  },
  {
   "cell_type": "code",
   "execution_count": 2,
   "id": "6ee5650e-2188-4d97-9024-6e294a8308af",
   "metadata": {},
   "outputs": [],
   "source": [
    "import numpy as np\n",
    "import pandas as pd\n",
    "import matplotlib.pyplot as plt\n",
    "from IPython.display import display, display_html\n",
    "from tqdm import tqdm"
   ]
  },
  {
   "cell_type": "code",
   "execution_count": 20,
   "id": "c1f7d5b7-a65f-4da5-9bf9-3c871b43381f",
   "metadata": {},
   "outputs": [],
   "source": [
    "import sys\n",
    "sys.path.append(\"..\")\n",
    "from rllib.student import student\n",
    "from rllib.dp import dp\n",
    "from rllib.linear_solver import linear_solver\n",
    "from rllib import misc"
   ]
  },
  {
   "cell_type": "markdown",
   "id": "d9c6d07b-a43c-4b49-917e-744f08076833",
   "metadata": {},
   "source": [
    "# Define student MDP"
   ]
  },
  {
   "cell_type": "code",
   "execution_count": 10,
   "id": "59058424-97df-4915-a79f-720d40db2c0b",
   "metadata": {},
   "outputs": [],
   "source": [
    "o = student()"
   ]
  },
  {
   "cell_type": "markdown",
   "id": "914fef2a-573e-4cae-830b-75e153ac5bb6",
   "metadata": {},
   "source": [
    "# Compute V(s)"
   ]
  },
  {
   "cell_type": "code",
   "execution_count": 11,
   "id": "fdbf63bf-b6cb-4c9c-94c1-dc7b05e88da7",
   "metadata": {},
   "outputs": [],
   "source": [
    "# alphas = [0, 0.5, 0.9, 1-0.1**10]\n",
    "gammas = [0, 0.9, 1-0.1**10, 1+0.1**10, 1.01, 1.1]"
   ]
  },
  {
   "cell_type": "code",
   "execution_count": 12,
   "id": "885ae391-b64f-4048-8145-71ece54920e9",
   "metadata": {},
   "outputs": [],
   "source": [
    "result = []\n",
    "for gamma in gammas[:]:\n",
    "    result.append([gamma] + list(linear_solver.value_linear_solver(o, gamma)))"
   ]
  },
  {
   "cell_type": "code",
   "execution_count": 13,
   "id": "7b177cbc-0095-4a0e-9083-f691294fed63",
   "metadata": {},
   "outputs": [
    {
     "data": {
      "text/html": [
       "<style type=\"text/css\">\n",
       "</style>\n",
       "<table id=\"T_c9000\">\n",
       "  <thead>\n",
       "    <tr>\n",
       "      <th class=\"blank level0\" >&nbsp;</th>\n",
       "      <th id=\"T_c9000_level0_col0\" class=\"col_heading level0 col0\" >class1</th>\n",
       "      <th id=\"T_c9000_level0_col1\" class=\"col_heading level0 col1\" >class2</th>\n",
       "      <th id=\"T_c9000_level0_col2\" class=\"col_heading level0 col2\" >class3</th>\n",
       "      <th id=\"T_c9000_level0_col3\" class=\"col_heading level0 col3\" >fb</th>\n",
       "      <th id=\"T_c9000_level0_col4\" class=\"col_heading level0 col4\" >sleeping</th>\n",
       "    </tr>\n",
       "    <tr>\n",
       "      <th class=\"index_name level0\" >gamma</th>\n",
       "      <th class=\"blank col0\" >&nbsp;</th>\n",
       "      <th class=\"blank col1\" >&nbsp;</th>\n",
       "      <th class=\"blank col2\" >&nbsp;</th>\n",
       "      <th class=\"blank col3\" >&nbsp;</th>\n",
       "      <th class=\"blank col4\" >&nbsp;</th>\n",
       "    </tr>\n",
       "  </thead>\n",
       "  <tbody>\n",
       "    <tr>\n",
       "      <th id=\"T_c9000_level0_row0\" class=\"row_heading level0 row0\" >0.000000</th>\n",
       "      <td id=\"T_c9000_row0_col0\" class=\"data row0 col0\" >-1.500</td>\n",
       "      <td id=\"T_c9000_row0_col1\" class=\"data row0 col1\" >-1.000</td>\n",
       "      <td id=\"T_c9000_row0_col2\" class=\"data row0 col2\" >5.500</td>\n",
       "      <td id=\"T_c9000_row0_col3\" class=\"data row0 col3\" >-0.500</td>\n",
       "      <td id=\"T_c9000_row0_col4\" class=\"data row0 col4\" >0.000</td>\n",
       "    </tr>\n",
       "    <tr>\n",
       "      <th id=\"T_c9000_level0_row1\" class=\"row_heading level0 row1\" >0.900000</th>\n",
       "      <td id=\"T_c9000_row1_col0\" class=\"data row1 col0\" >-1.484</td>\n",
       "      <td id=\"T_c9000_row1_col1\" class=\"data row1 col1\" >2.158</td>\n",
       "      <td id=\"T_c9000_row1_col2\" class=\"data row1 col2\" >7.018</td>\n",
       "      <td id=\"T_c9000_row1_col3\" class=\"data row1 col3\" >-2.124</td>\n",
       "      <td id=\"T_c9000_row1_col4\" class=\"data row1 col4\" >0.000</td>\n",
       "    </tr>\n",
       "    <tr>\n",
       "      <th id=\"T_c9000_level0_row2\" class=\"row_heading level0 row2\" >1.000000</th>\n",
       "      <td id=\"T_c9000_row2_col0\" class=\"data row2 col0\" >-1.308</td>\n",
       "      <td id=\"T_c9000_row2_col1\" class=\"data row2 col1\" >2.692</td>\n",
       "      <td id=\"T_c9000_row2_col2\" class=\"data row2 col2\" >7.385</td>\n",
       "      <td id=\"T_c9000_row2_col3\" class=\"data row2 col3\" >-2.308</td>\n",
       "      <td id=\"T_c9000_row2_col4\" class=\"data row2 col4\" >0.000</td>\n",
       "    </tr>\n",
       "    <tr>\n",
       "      <th id=\"T_c9000_level0_row3\" class=\"row_heading level0 row3\" >1.000000</th>\n",
       "      <td id=\"T_c9000_row3_col0\" class=\"data row3 col0\" >-1.308</td>\n",
       "      <td id=\"T_c9000_row3_col1\" class=\"data row3 col1\" >2.692</td>\n",
       "      <td id=\"T_c9000_row3_col2\" class=\"data row3 col2\" >7.385</td>\n",
       "      <td id=\"T_c9000_row3_col3\" class=\"data row3 col3\" >-2.308</td>\n",
       "      <td id=\"T_c9000_row3_col4\" class=\"data row3 col4\" >0.000</td>\n",
       "    </tr>\n",
       "    <tr>\n",
       "      <th id=\"T_c9000_level0_row4\" class=\"row_heading level0 row4\" >1.010000</th>\n",
       "      <td id=\"T_c9000_row4_col0\" class=\"data row4 col0\" >-1.281</td>\n",
       "      <td id=\"T_c9000_row4_col1\" class=\"data row4 col1\" >2.750</td>\n",
       "      <td id=\"T_c9000_row4_col2\" class=\"data row4 col2\" >7.426</td>\n",
       "      <td id=\"T_c9000_row4_col3\" class=\"data row4 col3\" >-2.317</td>\n",
       "      <td id=\"T_c9000_row4_col4\" class=\"data row4 col4\" >0.000</td>\n",
       "    </tr>\n",
       "    <tr>\n",
       "      <th id=\"T_c9000_level0_row5\" class=\"row_heading level0 row5\" >1.100000</th>\n",
       "      <td id=\"T_c9000_row5_col0\" class=\"data row5 col0\" >-0.856</td>\n",
       "      <td id=\"T_c9000_row5_col1\" class=\"data row5 col1\" >3.328</td>\n",
       "      <td id=\"T_c9000_row5_col2\" class=\"data row5 col2\" >7.869</td>\n",
       "      <td id=\"T_c9000_row5_col3\" class=\"data row5 col3\" >-2.158</td>\n",
       "      <td id=\"T_c9000_row5_col4\" class=\"data row5 col4\" >0.000</td>\n",
       "    </tr>\n",
       "  </tbody>\n",
       "</table>\n"
      ],
      "text/plain": [
       "<pandas.io.formats.style.Styler at 0x11f24dc90>"
      ]
     },
     "execution_count": 13,
     "metadata": {},
     "output_type": "execute_result"
    }
   ],
   "source": [
    "g = 'gamma'\n",
    "df = pd.DataFrame(result, columns=[g] + o.S).set_index(g)\n",
    "df.style.format(precision=3)"
   ]
  },
  {
   "cell_type": "markdown",
   "id": "76a7729f-f72f-4e8e-93a6-9399b82e0b71",
   "metadata": {},
   "source": [
    "# plot"
   ]
  },
  {
   "cell_type": "code",
   "execution_count": 14,
   "id": "5e61f338-5014-420e-88fb-616d1c8d35d0",
   "metadata": {},
   "outputs": [
    {
     "data": {
      "text/html": [
       "<style type=\"text/css\">\n",
       "</style>\n",
       "<table id=\"T_45cdf\">\n",
       "  <thead>\n",
       "    <tr>\n",
       "      <th class=\"blank level0\" >&nbsp;</th>\n",
       "      <th id=\"T_45cdf_level0_col0\" class=\"col_heading level0 col0\" >class1</th>\n",
       "      <th id=\"T_45cdf_level0_col1\" class=\"col_heading level0 col1\" >class2</th>\n",
       "      <th id=\"T_45cdf_level0_col2\" class=\"col_heading level0 col2\" >class3</th>\n",
       "      <th id=\"T_45cdf_level0_col3\" class=\"col_heading level0 col3\" >fb</th>\n",
       "      <th id=\"T_45cdf_level0_col4\" class=\"col_heading level0 col4\" >sleeping</th>\n",
       "    </tr>\n",
       "    <tr>\n",
       "      <th class=\"index_name level0\" >gamma</th>\n",
       "      <th class=\"blank col0\" >&nbsp;</th>\n",
       "      <th class=\"blank col1\" >&nbsp;</th>\n",
       "      <th class=\"blank col2\" >&nbsp;</th>\n",
       "      <th class=\"blank col3\" >&nbsp;</th>\n",
       "      <th class=\"blank col4\" >&nbsp;</th>\n",
       "    </tr>\n",
       "  </thead>\n",
       "  <tbody>\n",
       "    <tr>\n",
       "      <th id=\"T_45cdf_level0_row0\" class=\"row_heading level0 row0\" >0.000000</th>\n",
       "      <td id=\"T_45cdf_row0_col0\" class=\"data row0 col0\" >-1.500</td>\n",
       "      <td id=\"T_45cdf_row0_col1\" class=\"data row0 col1\" >-1.000</td>\n",
       "      <td id=\"T_45cdf_row0_col2\" class=\"data row0 col2\" >5.500</td>\n",
       "      <td id=\"T_45cdf_row0_col3\" class=\"data row0 col3\" >-0.500</td>\n",
       "      <td id=\"T_45cdf_row0_col4\" class=\"data row0 col4\" >0.000</td>\n",
       "    </tr>\n",
       "    <tr>\n",
       "      <th id=\"T_45cdf_level0_row1\" class=\"row_heading level0 row1\" >0.900000</th>\n",
       "      <td id=\"T_45cdf_row1_col0\" class=\"data row1 col0\" >-1.484</td>\n",
       "      <td id=\"T_45cdf_row1_col1\" class=\"data row1 col1\" >2.158</td>\n",
       "      <td id=\"T_45cdf_row1_col2\" class=\"data row1 col2\" >7.018</td>\n",
       "      <td id=\"T_45cdf_row1_col3\" class=\"data row1 col3\" >-2.124</td>\n",
       "      <td id=\"T_45cdf_row1_col4\" class=\"data row1 col4\" >0.000</td>\n",
       "    </tr>\n",
       "    <tr>\n",
       "      <th id=\"T_45cdf_level0_row2\" class=\"row_heading level0 row2\" >1.000000</th>\n",
       "      <td id=\"T_45cdf_row2_col0\" class=\"data row2 col0\" >-1.308</td>\n",
       "      <td id=\"T_45cdf_row2_col1\" class=\"data row2 col1\" >2.692</td>\n",
       "      <td id=\"T_45cdf_row2_col2\" class=\"data row2 col2\" >7.385</td>\n",
       "      <td id=\"T_45cdf_row2_col3\" class=\"data row2 col3\" >-2.308</td>\n",
       "      <td id=\"T_45cdf_row2_col4\" class=\"data row2 col4\" >0.000</td>\n",
       "    </tr>\n",
       "    <tr>\n",
       "      <th id=\"T_45cdf_level0_row3\" class=\"row_heading level0 row3\" >1.000000</th>\n",
       "      <td id=\"T_45cdf_row3_col0\" class=\"data row3 col0\" >-1.308</td>\n",
       "      <td id=\"T_45cdf_row3_col1\" class=\"data row3 col1\" >2.692</td>\n",
       "      <td id=\"T_45cdf_row3_col2\" class=\"data row3 col2\" >7.385</td>\n",
       "      <td id=\"T_45cdf_row3_col3\" class=\"data row3 col3\" >-2.308</td>\n",
       "      <td id=\"T_45cdf_row3_col4\" class=\"data row3 col4\" >0.000</td>\n",
       "    </tr>\n",
       "    <tr>\n",
       "      <th id=\"T_45cdf_level0_row4\" class=\"row_heading level0 row4\" >1.010000</th>\n",
       "      <td id=\"T_45cdf_row4_col0\" class=\"data row4 col0\" >-1.281</td>\n",
       "      <td id=\"T_45cdf_row4_col1\" class=\"data row4 col1\" >2.750</td>\n",
       "      <td id=\"T_45cdf_row4_col2\" class=\"data row4 col2\" >7.426</td>\n",
       "      <td id=\"T_45cdf_row4_col3\" class=\"data row4 col3\" >-2.317</td>\n",
       "      <td id=\"T_45cdf_row4_col4\" class=\"data row4 col4\" >0.000</td>\n",
       "    </tr>\n",
       "    <tr>\n",
       "      <th id=\"T_45cdf_level0_row5\" class=\"row_heading level0 row5\" >1.100000</th>\n",
       "      <td id=\"T_45cdf_row5_col0\" class=\"data row5 col0\" >-0.856</td>\n",
       "      <td id=\"T_45cdf_row5_col1\" class=\"data row5 col1\" >3.328</td>\n",
       "      <td id=\"T_45cdf_row5_col2\" class=\"data row5 col2\" >7.869</td>\n",
       "      <td id=\"T_45cdf_row5_col3\" class=\"data row5 col3\" >-2.158</td>\n",
       "      <td id=\"T_45cdf_row5_col4\" class=\"data row5 col4\" >0.000</td>\n",
       "    </tr>\n",
       "  </tbody>\n",
       "</table>\n"
      ],
      "text/plain": [
       "<pandas.io.formats.style.Styler at 0x11f44d120>"
      ]
     },
     "execution_count": 14,
     "metadata": {},
     "output_type": "execute_result"
    },
    {
     "data": {
      "image/png": "[encoded data removed]",
      "text/plain": [
       "<Figure size 600x300 with 2 Axes>"
      ]
     },
     "metadata": {},
     "output_type": "display_data"
    }
   ],
   "source": [
    "fig, (ax1, ax2) = plt.subplots(1, 2, figsize=(6, 3))\n",
    "\n",
    "df.T.plot(kind='bar', use_index=True, ax=ax1)\n",
    "ax1.grid(True)\n",
    "# ax1.legend(loc='center right')\n",
    "ax1.legend().set_visible(False)\n",
    "\n",
    "\n",
    "df.plot(use_index=True, marker='x', ax=ax2)\n",
    "ax2.grid(True)\n",
    "# ax2.legend(loc='center left')\n",
    "ax2.legend(loc='center left', bbox_to_anchor=(1, 0.5))\n",
    "\n",
    "\n",
    "# print(np.sum(np.einsum('ik,ijk->ij', s.Π, s.P), axis=1))\n",
    "# print(np.einsum('sa,sa->s', s.Π, s.R))\n",
    "df.style.format(precision=3)"
   ]
  },
  {
   "cell_type": "code",
   "execution_count": null,
   "id": "870a1606-d8d3-4f33-80ae-3cd4267ad379",
   "metadata": {},
   "outputs": [],
   "source": []
  },
  {
   "cell_type": "markdown",
   "id": "467822ee-78c8-4b0f-89f8-06eee082b937",
   "metadata": {},
   "source": [
    "# compute Q"
   ]
  },
  {
   "cell_type": "code",
   "execution_count": 15,
   "id": "1613067d-862a-45e2-a868-d99a13a38848",
   "metadata": {},
   "outputs": [],
   "source": [
    "# alphas = [0, 0.5, 0.9, 1-0.1**10]\n",
    "gammas = [0, 0.9, 1-0.1**10, 1+0.1**10, 1.01, 1.1]"
   ]
  },
  {
   "cell_type": "code",
   "execution_count": 16,
   "id": "ea453a0b-cc95-4ce4-88dd-daaf85270208",
   "metadata": {},
   "outputs": [],
   "source": [
    "result = []\n",
    "for gamma in gammas:\n",
    "    result.append([gamma] + list(linear_solver.q_linear_solver(o, gamma)))"
   ]
  },
  {
   "cell_type": "markdown",
   "id": "9c779bfc-bfae-4629-bd63-1c95694fe057",
   "metadata": {},
   "source": [
    "# plot"
   ]
  },
  {
   "cell_type": "code",
   "execution_count": 21,
   "id": "07fbd162-8b38-4a0e-bf67-0b72b58b3a2f",
   "metadata": {},
   "outputs": [
    {
     "data": {
      "text/html": [
       "<style type=\"text/css\">\n",
       "#T_67dd0_row0_col0, #T_67dd0_row0_col2, #T_67dd0_row2_col2, #T_67dd0_row2_col4, #T_67dd0_row4_col5 {\n",
       "  background-color: lime;\n",
       "}\n",
       "#T_67dd0_row1_col2, #T_67dd0_row1_col3, #T_67dd0_row3_col0, #T_67dd0_row3_col1 {\n",
       "  background-color: yellow;\n",
       "}\n",
       "</style>\n",
       "<table id=\"T_67dd0\">\n",
       "  <thead>\n",
       "    <tr>\n",
       "      <th class=\"blank level0\" >&nbsp;</th>\n",
       "      <th id=\"T_67dd0_level0_col0\" class=\"col_heading level0 col0\" >facebook</th>\n",
       "      <th id=\"T_67dd0_level0_col1\" class=\"col_heading level0 col1\" >quit</th>\n",
       "      <th id=\"T_67dd0_level0_col2\" class=\"col_heading level0 col2\" >study</th>\n",
       "      <th id=\"T_67dd0_level0_col3\" class=\"col_heading level0 col3\" >sleep</th>\n",
       "      <th id=\"T_67dd0_level0_col4\" class=\"col_heading level0 col4\" >pub</th>\n",
       "      <th id=\"T_67dd0_level0_col5\" class=\"col_heading level0 col5\" >other</th>\n",
       "    </tr>\n",
       "  </thead>\n",
       "  <tbody>\n",
       "    <tr>\n",
       "      <th id=\"T_67dd0_level0_row0\" class=\"row_heading level0 row0\" >class1</th>\n",
       "      <td id=\"T_67dd0_row0_col0\" class=\"data row0 col0\" >-3.3</td>\n",
       "      <td id=\"T_67dd0_row0_col1\" class=\"data row0 col1\" >0.0</td>\n",
       "      <td id=\"T_67dd0_row0_col2\" class=\"data row0 col2\" >0.7</td>\n",
       "      <td id=\"T_67dd0_row0_col3\" class=\"data row0 col3\" >0.0</td>\n",
       "      <td id=\"T_67dd0_row0_col4\" class=\"data row0 col4\" >0.0</td>\n",
       "      <td id=\"T_67dd0_row0_col5\" class=\"data row0 col5\" >0.0</td>\n",
       "    </tr>\n",
       "    <tr>\n",
       "      <th id=\"T_67dd0_level0_row1\" class=\"row_heading level0 row1\" >class2</th>\n",
       "      <td id=\"T_67dd0_row1_col0\" class=\"data row1 col0\" >0.0</td>\n",
       "      <td id=\"T_67dd0_row1_col1\" class=\"data row1 col1\" >0.0</td>\n",
       "      <td id=\"T_67dd0_row1_col2\" class=\"data row1 col2\" >5.4</td>\n",
       "      <td id=\"T_67dd0_row1_col3\" class=\"data row1 col3\" >0.0</td>\n",
       "      <td id=\"T_67dd0_row1_col4\" class=\"data row1 col4\" >0.0</td>\n",
       "      <td id=\"T_67dd0_row1_col5\" class=\"data row1 col5\" >0.0</td>\n",
       "    </tr>\n",
       "    <tr>\n",
       "      <th id=\"T_67dd0_level0_row2\" class=\"row_heading level0 row2\" >class3</th>\n",
       "      <td id=\"T_67dd0_row2_col0\" class=\"data row2 col0\" >0.0</td>\n",
       "      <td id=\"T_67dd0_row2_col1\" class=\"data row2 col1\" >0.0</td>\n",
       "      <td id=\"T_67dd0_row2_col2\" class=\"data row2 col2\" >10.0</td>\n",
       "      <td id=\"T_67dd0_row2_col3\" class=\"data row2 col3\" >0.0</td>\n",
       "      <td id=\"T_67dd0_row2_col4\" class=\"data row2 col4\" >4.8</td>\n",
       "      <td id=\"T_67dd0_row2_col5\" class=\"data row2 col5\" >0.0</td>\n",
       "    </tr>\n",
       "    <tr>\n",
       "      <th id=\"T_67dd0_level0_row3\" class=\"row_heading level0 row3\" >fb</th>\n",
       "      <td id=\"T_67dd0_row3_col0\" class=\"data row3 col0\" >-3.3</td>\n",
       "      <td id=\"T_67dd0_row3_col1\" class=\"data row3 col1\" >-1.3</td>\n",
       "      <td id=\"T_67dd0_row3_col2\" class=\"data row3 col2\" >0.0</td>\n",
       "      <td id=\"T_67dd0_row3_col3\" class=\"data row3 col3\" >0.0</td>\n",
       "      <td id=\"T_67dd0_row3_col4\" class=\"data row3 col4\" >0.0</td>\n",
       "      <td id=\"T_67dd0_row3_col5\" class=\"data row3 col5\" >0.0</td>\n",
       "    </tr>\n",
       "    <tr>\n",
       "      <th id=\"T_67dd0_level0_row4\" class=\"row_heading level0 row4\" >sleeping</th>\n",
       "      <td id=\"T_67dd0_row4_col0\" class=\"data row4 col0\" >0.0</td>\n",
       "      <td id=\"T_67dd0_row4_col1\" class=\"data row4 col1\" >0.0</td>\n",
       "      <td id=\"T_67dd0_row4_col2\" class=\"data row4 col2\" >0.0</td>\n",
       "      <td id=\"T_67dd0_row4_col3\" class=\"data row4 col3\" >0.0</td>\n",
       "      <td id=\"T_67dd0_row4_col4\" class=\"data row4 col4\" >0.0</td>\n",
       "      <td id=\"T_67dd0_row4_col5\" class=\"data row4 col5\" >0.0</td>\n",
       "    </tr>\n",
       "  </tbody>\n",
       "</table>\n"
      ],
      "text/plain": [
       "<pandas.io.formats.style.Styler at 0x11f24e620>"
      ]
     },
     "execution_count": 21,
     "metadata": {},
     "output_type": "execute_result"
    }
   ],
   "source": [
    "res = result[2][1:]\n",
    "df1 = pd.DataFrame(res, columns=o.A, index=o.S)\n",
    "df1.style\\\n",
    "    .apply(misc.color_positive_green, mask=o.Π, axis=None)\\\n",
    "    .format(precision=1)"
   ]
  },
  {
   "cell_type": "code",
   "execution_count": 22,
   "id": "18810ac4-c87e-4cd4-b7dd-7f271836aae5",
   "metadata": {},
   "outputs": [],
   "source": [
    "res = result[2][1:]\n",
    "df2 = pd.DataFrame([np.einsum('sa,sa->s', o.Π, np.array(res))], columns=o.S).T"
   ]
  },
  {
   "cell_type": "code",
   "execution_count": 23,
   "id": "b72eec01-6b3c-47c4-abbd-6cc76f10a884",
   "metadata": {},
   "outputs": [
    {
     "data": {
      "text/html": [
       "<style type=\"text/css\">\n",
       "#T_5a6b3_row0_col0, #T_5a6b3_row0_col2, #T_5a6b3_row2_col2, #T_5a6b3_row2_col4, #T_5a6b3_row4_col5 {\n",
       "  background-color: lime;\n",
       "}\n",
       "#T_5a6b3_row1_col2, #T_5a6b3_row1_col3, #T_5a6b3_row3_col0, #T_5a6b3_row3_col1 {\n",
       "  background-color: yellow;\n",
       "}\n",
       "</style>\n",
       "<table id=\"T_5a6b3\" style='display:inline'>\n",
       "  <caption>Q(s,a)</caption>\n",
       "  <thead>\n",
       "    <tr>\n",
       "      <th class=\"blank level0\" >&nbsp;</th>\n",
       "      <th id=\"T_5a6b3_level0_col0\" class=\"col_heading level0 col0\" >facebook</th>\n",
       "      <th id=\"T_5a6b3_level0_col1\" class=\"col_heading level0 col1\" >quit</th>\n",
       "      <th id=\"T_5a6b3_level0_col2\" class=\"col_heading level0 col2\" >study</th>\n",
       "      <th id=\"T_5a6b3_level0_col3\" class=\"col_heading level0 col3\" >sleep</th>\n",
       "      <th id=\"T_5a6b3_level0_col4\" class=\"col_heading level0 col4\" >pub</th>\n",
       "      <th id=\"T_5a6b3_level0_col5\" class=\"col_heading level0 col5\" >other</th>\n",
       "    </tr>\n",
       "  </thead>\n",
       "  <tbody>\n",
       "    <tr>\n",
       "      <th id=\"T_5a6b3_level0_row0\" class=\"row_heading level0 row0\" >class1</th>\n",
       "      <td id=\"T_5a6b3_row0_col0\" class=\"data row0 col0\" >-3.3</td>\n",
       "      <td id=\"T_5a6b3_row0_col1\" class=\"data row0 col1\" >0.0</td>\n",
       "      <td id=\"T_5a6b3_row0_col2\" class=\"data row0 col2\" >0.7</td>\n",
       "      <td id=\"T_5a6b3_row0_col3\" class=\"data row0 col3\" >0.0</td>\n",
       "      <td id=\"T_5a6b3_row0_col4\" class=\"data row0 col4\" >0.0</td>\n",
       "      <td id=\"T_5a6b3_row0_col5\" class=\"data row0 col5\" >0.0</td>\n",
       "    </tr>\n",
       "    <tr>\n",
       "      <th id=\"T_5a6b3_level0_row1\" class=\"row_heading level0 row1\" >class2</th>\n",
       "      <td id=\"T_5a6b3_row1_col0\" class=\"data row1 col0\" >0.0</td>\n",
       "      <td id=\"T_5a6b3_row1_col1\" class=\"data row1 col1\" >0.0</td>\n",
       "      <td id=\"T_5a6b3_row1_col2\" class=\"data row1 col2\" >5.4</td>\n",
       "      <td id=\"T_5a6b3_row1_col3\" class=\"data row1 col3\" >0.0</td>\n",
       "      <td id=\"T_5a6b3_row1_col4\" class=\"data row1 col4\" >0.0</td>\n",
       "      <td id=\"T_5a6b3_row1_col5\" class=\"data row1 col5\" >0.0</td>\n",
       "    </tr>\n",
       "    <tr>\n",
       "      <th id=\"T_5a6b3_level0_row2\" class=\"row_heading level0 row2\" >class3</th>\n",
       "      <td id=\"T_5a6b3_row2_col0\" class=\"data row2 col0\" >0.0</td>\n",
       "      <td id=\"T_5a6b3_row2_col1\" class=\"data row2 col1\" >0.0</td>\n",
       "      <td id=\"T_5a6b3_row2_col2\" class=\"data row2 col2\" >10.0</td>\n",
       "      <td id=\"T_5a6b3_row2_col3\" class=\"data row2 col3\" >0.0</td>\n",
       "      <td id=\"T_5a6b3_row2_col4\" class=\"data row2 col4\" >4.8</td>\n",
       "      <td id=\"T_5a6b3_row2_col5\" class=\"data row2 col5\" >0.0</td>\n",
       "    </tr>\n",
       "    <tr>\n",
       "      <th id=\"T_5a6b3_level0_row3\" class=\"row_heading level0 row3\" >fb</th>\n",
       "      <td id=\"T_5a6b3_row3_col0\" class=\"data row3 col0\" >-3.3</td>\n",
       "      <td id=\"T_5a6b3_row3_col1\" class=\"data row3 col1\" >-1.3</td>\n",
       "      <td id=\"T_5a6b3_row3_col2\" class=\"data row3 col2\" >0.0</td>\n",
       "      <td id=\"T_5a6b3_row3_col3\" class=\"data row3 col3\" >0.0</td>\n",
       "      <td id=\"T_5a6b3_row3_col4\" class=\"data row3 col4\" >0.0</td>\n",
       "      <td id=\"T_5a6b3_row3_col5\" class=\"data row3 col5\" >0.0</td>\n",
       "    </tr>\n",
       "    <tr>\n",
       "      <th id=\"T_5a6b3_level0_row4\" class=\"row_heading level0 row4\" >sleeping</th>\n",
       "      <td id=\"T_5a6b3_row4_col0\" class=\"data row4 col0\" >0.0</td>\n",
       "      <td id=\"T_5a6b3_row4_col1\" class=\"data row4 col1\" >0.0</td>\n",
       "      <td id=\"T_5a6b3_row4_col2\" class=\"data row4 col2\" >0.0</td>\n",
       "      <td id=\"T_5a6b3_row4_col3\" class=\"data row4 col3\" >0.0</td>\n",
       "      <td id=\"T_5a6b3_row4_col4\" class=\"data row4 col4\" >0.0</td>\n",
       "      <td id=\"T_5a6b3_row4_col5\" class=\"data row4 col5\" >0.0</td>\n",
       "    </tr>\n",
       "  </tbody>\n",
       "</table>\n",
       "<style type=\"text/css\">\n",
       "#T_46ecb_row0_col0, #T_46ecb_row2_col0, #T_46ecb_row4_col0 {\n",
       "  background-color: lime;\n",
       "}\n",
       "#T_46ecb_row1_col0, #T_46ecb_row3_col0 {\n",
       "  background-color: yellow;\n",
       "}\n",
       "</style>\n",
       "<table id=\"T_46ecb\" style='display:inline'>\n",
       "  <caption>V(s)</caption>\n",
       "  <thead>\n",
       "    <tr>\n",
       "      <th id=\"T_46ecb_level0_col0\" class=\"col_heading level0 col0\" >0</th>\n",
       "    </tr>\n",
       "  </thead>\n",
       "  <tbody>\n",
       "    <tr>\n",
       "      <td id=\"T_46ecb_row0_col0\" class=\"data row0 col0\" >-1.3</td>\n",
       "    </tr>\n",
       "    <tr>\n",
       "      <td id=\"T_46ecb_row1_col0\" class=\"data row1 col0\" >2.7</td>\n",
       "    </tr>\n",
       "    <tr>\n",
       "      <td id=\"T_46ecb_row2_col0\" class=\"data row2 col0\" >7.4</td>\n",
       "    </tr>\n",
       "    <tr>\n",
       "      <td id=\"T_46ecb_row3_col0\" class=\"data row3 col0\" >-2.3</td>\n",
       "    </tr>\n",
       "    <tr>\n",
       "      <td id=\"T_46ecb_row4_col0\" class=\"data row4 col0\" >0.0</td>\n",
       "    </tr>\n",
       "  </tbody>\n",
       "</table>\n"
      ]
     },
     "metadata": {},
     "output_type": "display_data"
    }
   ],
   "source": [
    "df1_styler = df1.style\\\n",
    "    .apply(misc.color_positive_green, mask=o.Π, axis=None)\\\n",
    "    .format(precision=1)\\\n",
    "    .set_table_attributes(\"style='display:inline'\")\\\n",
    "    .set_caption('Q(s,a)')\n",
    "df2_styler = df2.style\\\n",
    "    .apply(misc.color_positive_green_vertical, axis=None)\\\n",
    "    .format(precision=1)\\\n",
    "    .hide(axis='index')\\\n",
    "    .set_table_attributes(\"style='display:inline'\")\\\n",
    "    .set_caption('V(s)')\n",
    "\n",
    "display_html(df1_styler._repr_html_()+df2_styler._repr_html_(), raw=True)"
   ]
  },
  {
   "cell_type": "markdown",
   "id": "9a3a8468-9d6b-4bab-b15c-4f0d30058c36",
   "metadata": {},
   "source": [
    "# compare"
   ]
  },
  {
   "cell_type": "code",
   "execution_count": 24,
   "id": "ac9b8697-8c19-4d5e-bb4e-efff19c35416",
   "metadata": {},
   "outputs": [
    {
     "data": {
      "text/html": [
       "<style type=\"text/css\">\n",
       "#T_cd367_row0_col0, #T_cd367_row0_col2, #T_cd367_row0_col4 {\n",
       "  background-color: lime;\n",
       "}\n",
       "#T_cd367_row0_col1, #T_cd367_row0_col3 {\n",
       "  background-color: yellow;\n",
       "}\n",
       "</style>\n",
       "<table id=\"T_cd367\">\n",
       "  <thead>\n",
       "    <tr>\n",
       "      <th id=\"T_cd367_level0_col0\" class=\"col_heading level0 col0\" >class1</th>\n",
       "      <th id=\"T_cd367_level0_col1\" class=\"col_heading level0 col1\" >class2</th>\n",
       "      <th id=\"T_cd367_level0_col2\" class=\"col_heading level0 col2\" >class3</th>\n",
       "      <th id=\"T_cd367_level0_col3\" class=\"col_heading level0 col3\" >fb</th>\n",
       "      <th id=\"T_cd367_level0_col4\" class=\"col_heading level0 col4\" >sleeping</th>\n",
       "    </tr>\n",
       "  </thead>\n",
       "  <tbody>\n",
       "    <tr>\n",
       "      <td id=\"T_cd367_row0_col0\" class=\"data row0 col0\" >-1.3</td>\n",
       "      <td id=\"T_cd367_row0_col1\" class=\"data row0 col1\" >2.7</td>\n",
       "      <td id=\"T_cd367_row0_col2\" class=\"data row0 col2\" >7.4</td>\n",
       "      <td id=\"T_cd367_row0_col3\" class=\"data row0 col3\" >-2.3</td>\n",
       "      <td id=\"T_cd367_row0_col4\" class=\"data row0 col4\" >0.0</td>\n",
       "    </tr>\n",
       "  </tbody>\n",
       "</table>\n"
      ],
      "text/plain": [
       "<pandas.io.formats.style.Styler at 0x11f600460>"
      ]
     },
     "execution_count": 24,
     "metadata": {},
     "output_type": "execute_result"
    }
   ],
   "source": [
    "df.iloc[3:4,:].style\\\n",
    "    .apply(misc.color_positive_green_horizontal, axis=None)\\\n",
    "    .format(precision=1)\\\n",
    "    .hide(axis='index')"
   ]
  },
  {
   "cell_type": "code",
   "execution_count": null,
   "id": "c02afa01-4708-48fa-bf7e-a6a56fa61509",
   "metadata": {},
   "outputs": [],
   "source": []
  }
 ],
 "metadata": {
  "kernelspec": {
   "display_name": "Python 3 (ipykernel)",
   "language": "python",
   "name": "python3"
  },
  "language_info": {
   "codemirror_mode": {
    "name": "ipython",
    "version": 3
   },
   "file_extension": ".py",
   "mimetype": "text/x-python",
   "name": "python",
   "nbconvert_exporter": "python",
   "pygments_lexer": "ipython3",
   "version": "3.10.6"
  }
 },
 "nbformat": 4,
 "nbformat_minor": 5
}
