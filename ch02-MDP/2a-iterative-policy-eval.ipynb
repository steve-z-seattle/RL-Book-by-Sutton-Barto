{
 "cells": [
  {
   "cell_type": "code",
   "execution_count": 1,
   "id": "d8a4da28-e265-4861-8308-5034e9954bef",
   "metadata": {},
   "outputs": [],
   "source": [
    "%load_ext autoreload\n",
    "%autoreload 2"
   ]
  },
  {
   "cell_type": "code",
   "execution_count": 2,
   "id": "6ee5650e-2188-4d97-9024-6e294a8308af",
   "metadata": {},
   "outputs": [],
   "source": [
    "import numpy as np\n",
    "import pandas as pd\n",
    "import matplotlib.pyplot as plt\n",
    "from IPython.display import display, display_html\n",
    "from tqdm import tqdm"
   ]
  },
  {
   "cell_type": "code",
   "execution_count": 3,
   "id": "c1f7d5b7-a65f-4da5-9bf9-3c871b43381f",
   "metadata": {},
   "outputs": [],
   "source": [
    "import sys\n",
    "sys.path.append(\"..\")\n",
    "from rllib.student import student\n",
    "from rllib.dp import dp\n",
    "from rllib.linear_solver import linear_solver\n",
    "from rllib import misc"
   ]
  },
  {
   "cell_type": "markdown",
   "id": "d9c6d07b-a43c-4b49-917e-744f08076833",
   "metadata": {},
   "source": [
    "# define student MDP"
   ]
  },
  {
   "cell_type": "code",
   "execution_count": 4,
   "id": "59058424-97df-4915-a79f-720d40db2c0b",
   "metadata": {},
   "outputs": [],
   "source": [
    "o = student()"
   ]
  },
  {
   "cell_type": "markdown",
   "id": "5901b9e5-17bb-46fe-aa67-a22a45ee97d6",
   "metadata": {},
   "source": [
    "## check R"
   ]
  },
  {
   "cell_type": "code",
   "execution_count": 5,
   "id": "1f36ea4f-38b6-464a-9168-ddd11f10e01c",
   "metadata": {},
   "outputs": [
    {
     "data": {
      "text/html": [
       "<style type=\"text/css\">\n",
       "#T_ff20a_row0_col0, #T_ff20a_row0_col2, #T_ff20a_row2_col2, #T_ff20a_row2_col4 {\n",
       "  background-color: lime;\n",
       "}\n",
       "#T_ff20a_row1_col2, #T_ff20a_row3_col0 {\n",
       "  background-color: yellow;\n",
       "}\n",
       "</style>\n",
       "<table id=\"T_ff20a\">\n",
       "  <thead>\n",
       "    <tr>\n",
       "      <th class=\"blank level0\" >&nbsp;</th>\n",
       "      <th id=\"T_ff20a_level0_col0\" class=\"col_heading level0 col0\" >facebook</th>\n",
       "      <th id=\"T_ff20a_level0_col1\" class=\"col_heading level0 col1\" >quit</th>\n",
       "      <th id=\"T_ff20a_level0_col2\" class=\"col_heading level0 col2\" >study</th>\n",
       "      <th id=\"T_ff20a_level0_col3\" class=\"col_heading level0 col3\" >sleep</th>\n",
       "      <th id=\"T_ff20a_level0_col4\" class=\"col_heading level0 col4\" >pub</th>\n",
       "      <th id=\"T_ff20a_level0_col5\" class=\"col_heading level0 col5\" >other</th>\n",
       "    </tr>\n",
       "  </thead>\n",
       "  <tbody>\n",
       "    <tr>\n",
       "      <th id=\"T_ff20a_level0_row0\" class=\"row_heading level0 row0\" >class1</th>\n",
       "      <td id=\"T_ff20a_row0_col0\" class=\"data row0 col0\" >-1.00</td>\n",
       "      <td id=\"T_ff20a_row0_col1\" class=\"data row0 col1\" >0.00</td>\n",
       "      <td id=\"T_ff20a_row0_col2\" class=\"data row0 col2\" >-2.00</td>\n",
       "      <td id=\"T_ff20a_row0_col3\" class=\"data row0 col3\" >0.00</td>\n",
       "      <td id=\"T_ff20a_row0_col4\" class=\"data row0 col4\" >0.00</td>\n",
       "      <td id=\"T_ff20a_row0_col5\" class=\"data row0 col5\" >0.00</td>\n",
       "    </tr>\n",
       "    <tr>\n",
       "      <th id=\"T_ff20a_level0_row1\" class=\"row_heading level0 row1\" >class2</th>\n",
       "      <td id=\"T_ff20a_row1_col0\" class=\"data row1 col0\" >0.00</td>\n",
       "      <td id=\"T_ff20a_row1_col1\" class=\"data row1 col1\" >0.00</td>\n",
       "      <td id=\"T_ff20a_row1_col2\" class=\"data row1 col2\" >-2.00</td>\n",
       "      <td id=\"T_ff20a_row1_col3\" class=\"data row1 col3\" >0.00</td>\n",
       "      <td id=\"T_ff20a_row1_col4\" class=\"data row1 col4\" >0.00</td>\n",
       "      <td id=\"T_ff20a_row1_col5\" class=\"data row1 col5\" >0.00</td>\n",
       "    </tr>\n",
       "    <tr>\n",
       "      <th id=\"T_ff20a_level0_row2\" class=\"row_heading level0 row2\" >class3</th>\n",
       "      <td id=\"T_ff20a_row2_col0\" class=\"data row2 col0\" >0.00</td>\n",
       "      <td id=\"T_ff20a_row2_col1\" class=\"data row2 col1\" >0.00</td>\n",
       "      <td id=\"T_ff20a_row2_col2\" class=\"data row2 col2\" >10.00</td>\n",
       "      <td id=\"T_ff20a_row2_col3\" class=\"data row2 col3\" >0.00</td>\n",
       "      <td id=\"T_ff20a_row2_col4\" class=\"data row2 col4\" >1.00</td>\n",
       "      <td id=\"T_ff20a_row2_col5\" class=\"data row2 col5\" >0.00</td>\n",
       "    </tr>\n",
       "    <tr>\n",
       "      <th id=\"T_ff20a_level0_row3\" class=\"row_heading level0 row3\" >fb</th>\n",
       "      <td id=\"T_ff20a_row3_col0\" class=\"data row3 col0\" >-1.00</td>\n",
       "      <td id=\"T_ff20a_row3_col1\" class=\"data row3 col1\" >0.00</td>\n",
       "      <td id=\"T_ff20a_row3_col2\" class=\"data row3 col2\" >0.00</td>\n",
       "      <td id=\"T_ff20a_row3_col3\" class=\"data row3 col3\" >0.00</td>\n",
       "      <td id=\"T_ff20a_row3_col4\" class=\"data row3 col4\" >0.00</td>\n",
       "      <td id=\"T_ff20a_row3_col5\" class=\"data row3 col5\" >0.00</td>\n",
       "    </tr>\n",
       "    <tr>\n",
       "      <th id=\"T_ff20a_level0_row4\" class=\"row_heading level0 row4\" >sleeping</th>\n",
       "      <td id=\"T_ff20a_row4_col0\" class=\"data row4 col0\" >0.00</td>\n",
       "      <td id=\"T_ff20a_row4_col1\" class=\"data row4 col1\" >0.00</td>\n",
       "      <td id=\"T_ff20a_row4_col2\" class=\"data row4 col2\" >0.00</td>\n",
       "      <td id=\"T_ff20a_row4_col3\" class=\"data row4 col3\" >0.00</td>\n",
       "      <td id=\"T_ff20a_row4_col4\" class=\"data row4 col4\" >0.00</td>\n",
       "      <td id=\"T_ff20a_row4_col5\" class=\"data row4 col5\" >0.00</td>\n",
       "    </tr>\n",
       "  </tbody>\n",
       "</table>\n"
      ],
      "text/plain": [
       "<pandas.io.formats.style.Styler at 0x10daa37f0>"
      ]
     },
     "execution_count": 5,
     "metadata": {},
     "output_type": "execute_result"
    }
   ],
   "source": [
    "df = pd.DataFrame(o.R, columns=o.A, index=o.S)\n",
    "df.style.apply(misc.color_positive_green, mask=o.R, axis=None).format(precision=2)"
   ]
  },
  {
   "cell_type": "code",
   "execution_count": 7,
   "id": "37121230-8492-4590-ba9a-1e3d30f8aa3f",
   "metadata": {},
   "outputs": [
    {
     "data": {
      "text/plain": [
       "array([-1.5, -1. ,  5.5, -0.5,  0. ])"
      ]
     },
     "execution_count": 7,
     "metadata": {},
     "output_type": "execute_result"
    }
   ],
   "source": [
    "np.einsum('sa,sa->s', o.Π, o.R)"
   ]
  },
  {
   "cell_type": "markdown",
   "id": "914fef2a-573e-4cae-830b-75e153ac5bb6",
   "metadata": {},
   "source": [
    "# Compute V(s)"
   ]
  },
  {
   "cell_type": "code",
   "execution_count": 8,
   "id": "68c9cbbb-589d-4e69-8fc7-3b3bda13e27c",
   "metadata": {},
   "outputs": [],
   "source": [
    "gamma = 1.0"
   ]
  },
  {
   "cell_type": "code",
   "execution_count": 9,
   "id": "562e8659-1d48-4253-b8fb-6dec31797290",
   "metadata": {},
   "outputs": [],
   "source": [
    "hist = []\n",
    "V = np.zeros(len(o.S))\n",
    "hist.append(V)\n",
    "for i in range(20):\n",
    "    V = dp.compute_v_π(o, V, gamma)\n",
    "    hist.append(V)"
   ]
  },
  {
   "cell_type": "code",
   "execution_count": 10,
   "id": "fa64c68c-256b-4ad8-baad-0457837c99e8",
   "metadata": {},
   "outputs": [
    {
     "data": {
      "text/plain": [
       "array([-1.31756435,  2.69112472,  7.38266091, -2.32282241,  0.        ])"
      ]
     },
     "execution_count": 10,
     "metadata": {},
     "output_type": "execute_result"
    }
   ],
   "source": [
    "V"
   ]
  },
  {
   "cell_type": "code",
   "execution_count": 11,
   "id": "ecde24c6-66d5-4828-8b68-df4f50b95ef5",
   "metadata": {},
   "outputs": [],
   "source": [
    "df = pd.DataFrame(hist, columns=o.S)"
   ]
  },
  {
   "cell_type": "code",
   "execution_count": 12,
   "id": "5c9160be-4852-49d9-a5d4-6c1914c1f823",
   "metadata": {},
   "outputs": [
    {
     "data": {
      "image/png": "[encoded data removed]",
      "text/plain": [
       "<Figure size 500x400 with 1 Axes>"
      ]
     },
     "metadata": {},
     "output_type": "display_data"
    }
   ],
   "source": [
    "fig, ax = plt.subplots(figsize=(5, 4))\n",
    "\n",
    "df.plot(marker='x', ax=ax)\n",
    "ax.grid(True)\n",
    "ax.legend(loc='center left', bbox_to_anchor=(1, 0.5))\n",
    "\n",
    "plt.show()"
   ]
  },
  {
   "cell_type": "code",
   "execution_count": null,
   "id": "c02afa01-4708-48fa-bf7e-a6a56fa61509",
   "metadata": {},
   "outputs": [],
   "source": []
  }
 ],
 "metadata": {
  "kernelspec": {
   "display_name": "Python 3 (ipykernel)",
   "language": "python",
   "name": "python3"
  },
  "language_info": {
   "codemirror_mode": {
    "name": "ipython",
    "version": 3
   },
   "file_extension": ".py",
   "mimetype": "text/x-python",
   "name": "python",
   "nbconvert_exporter": "python",
   "pygments_lexer": "ipython3",
   "version": "3.10.6"
  }
 },
 "nbformat": 4,
 "nbformat_minor": 5
}
