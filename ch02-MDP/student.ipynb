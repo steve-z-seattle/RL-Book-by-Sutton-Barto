{
 "cells": [
  {
   "cell_type": "code",
   "execution_count": 1,
   "id": "95da65a8-d24b-47ec-b141-14bd12372d0c",
   "metadata": {},
   "outputs": [],
   "source": [
    "%load_ext autoreload\n",
    "%autoreload 2"
   ]
  },
  {
   "cell_type": "code",
   "execution_count": 2,
   "id": "6ee5650e-2188-4d97-9024-6e294a8308af",
   "metadata": {},
   "outputs": [],
   "source": [
    "import numpy as np\n",
    "import pandas as pd\n",
    "import matplotlib.pyplot as plt\n",
    "from IPython.display import display, display_html\n",
    "from tqdm import tqdm"
   ]
  },
  {
   "cell_type": "code",
   "execution_count": 3,
   "id": "c1f7d5b7-a65f-4da5-9bf9-3c871b43381f",
   "metadata": {},
   "outputs": [],
   "source": [
    "import sys\n",
    "sys.path.append(\"..\")\n",
    "from rllib.student import student\n",
    "from rllib.dp import dp\n",
    "from rllib.linear_solver import linear_solver\n",
    "from rllib import misc"
   ]
  },
  {
   "cell_type": "markdown",
   "id": "d9c6d07b-a43c-4b49-917e-744f08076833",
   "metadata": {},
   "source": [
    "# define student MDP"
   ]
  },
  {
   "cell_type": "code",
   "execution_count": 5,
   "id": "59058424-97df-4915-a79f-720d40db2c0b",
   "metadata": {},
   "outputs": [],
   "source": [
    "o = student()"
   ]
  },
  {
   "cell_type": "markdown",
   "id": "a325ab72-ca55-4ef8-ad45-f8c4e4d9d5c4",
   "metadata": {},
   "source": [
    "## check P_s_sp_π"
   ]
  },
  {
   "cell_type": "code",
   "execution_count": 6,
   "id": "d9ee5ecb-247a-42e5-85d1-22f1239691eb",
   "metadata": {},
   "outputs": [
    {
     "data": {
      "text/html": [
       "<style type=\"text/css\">\n",
       "#T_62eab_row0_col1, #T_62eab_row0_col3, #T_62eab_row2_col0, #T_62eab_row2_col1, #T_62eab_row2_col2, #T_62eab_row2_col4, #T_62eab_row4_col4 {\n",
       "  background-color: lime;\n",
       "}\n",
       "#T_62eab_row1_col2, #T_62eab_row1_col4, #T_62eab_row3_col0, #T_62eab_row3_col3 {\n",
       "  background-color: yellow;\n",
       "}\n",
       "</style>\n",
       "<table id=\"T_62eab\">\n",
       "  <thead>\n",
       "    <tr>\n",
       "      <th class=\"blank level0\" >&nbsp;</th>\n",
       "      <th id=\"T_62eab_level0_col0\" class=\"col_heading level0 col0\" >class1</th>\n",
       "      <th id=\"T_62eab_level0_col1\" class=\"col_heading level0 col1\" >class2</th>\n",
       "      <th id=\"T_62eab_level0_col2\" class=\"col_heading level0 col2\" >class3</th>\n",
       "      <th id=\"T_62eab_level0_col3\" class=\"col_heading level0 col3\" >fb</th>\n",
       "      <th id=\"T_62eab_level0_col4\" class=\"col_heading level0 col4\" >sleeping</th>\n",
       "    </tr>\n",
       "  </thead>\n",
       "  <tbody>\n",
       "    <tr>\n",
       "      <th id=\"T_62eab_level0_row0\" class=\"row_heading level0 row0\" >class1</th>\n",
       "      <td id=\"T_62eab_row0_col0\" class=\"data row0 col0\" >0.0</td>\n",
       "      <td id=\"T_62eab_row0_col1\" class=\"data row0 col1\" >0.5</td>\n",
       "      <td id=\"T_62eab_row0_col2\" class=\"data row0 col2\" >0.0</td>\n",
       "      <td id=\"T_62eab_row0_col3\" class=\"data row0 col3\" >0.5</td>\n",
       "      <td id=\"T_62eab_row0_col4\" class=\"data row0 col4\" >0.0</td>\n",
       "    </tr>\n",
       "    <tr>\n",
       "      <th id=\"T_62eab_level0_row1\" class=\"row_heading level0 row1\" >class2</th>\n",
       "      <td id=\"T_62eab_row1_col0\" class=\"data row1 col0\" >0.0</td>\n",
       "      <td id=\"T_62eab_row1_col1\" class=\"data row1 col1\" >0.0</td>\n",
       "      <td id=\"T_62eab_row1_col2\" class=\"data row1 col2\" >0.5</td>\n",
       "      <td id=\"T_62eab_row1_col3\" class=\"data row1 col3\" >0.0</td>\n",
       "      <td id=\"T_62eab_row1_col4\" class=\"data row1 col4\" >0.5</td>\n",
       "    </tr>\n",
       "    <tr>\n",
       "      <th id=\"T_62eab_level0_row2\" class=\"row_heading level0 row2\" >class3</th>\n",
       "      <td id=\"T_62eab_row2_col0\" class=\"data row2 col0\" >0.1</td>\n",
       "      <td id=\"T_62eab_row2_col1\" class=\"data row2 col1\" >0.2</td>\n",
       "      <td id=\"T_62eab_row2_col2\" class=\"data row2 col2\" >0.2</td>\n",
       "      <td id=\"T_62eab_row2_col3\" class=\"data row2 col3\" >0.0</td>\n",
       "      <td id=\"T_62eab_row2_col4\" class=\"data row2 col4\" >0.5</td>\n",
       "    </tr>\n",
       "    <tr>\n",
       "      <th id=\"T_62eab_level0_row3\" class=\"row_heading level0 row3\" >fb</th>\n",
       "      <td id=\"T_62eab_row3_col0\" class=\"data row3 col0\" >0.5</td>\n",
       "      <td id=\"T_62eab_row3_col1\" class=\"data row3 col1\" >0.0</td>\n",
       "      <td id=\"T_62eab_row3_col2\" class=\"data row3 col2\" >0.0</td>\n",
       "      <td id=\"T_62eab_row3_col3\" class=\"data row3 col3\" >0.5</td>\n",
       "      <td id=\"T_62eab_row3_col4\" class=\"data row3 col4\" >0.0</td>\n",
       "    </tr>\n",
       "    <tr>\n",
       "      <th id=\"T_62eab_level0_row4\" class=\"row_heading level0 row4\" >sleeping</th>\n",
       "      <td id=\"T_62eab_row4_col0\" class=\"data row4 col0\" >0.0</td>\n",
       "      <td id=\"T_62eab_row4_col1\" class=\"data row4 col1\" >0.0</td>\n",
       "      <td id=\"T_62eab_row4_col2\" class=\"data row4 col2\" >0.0</td>\n",
       "      <td id=\"T_62eab_row4_col3\" class=\"data row4 col3\" >0.0</td>\n",
       "      <td id=\"T_62eab_row4_col4\" class=\"data row4 col4\" >1.0</td>\n",
       "    </tr>\n",
       "  </tbody>\n",
       "</table>\n"
      ],
      "text/plain": [
       "<pandas.io.formats.style.Styler at 0x11ed960b0>"
      ]
     },
     "execution_count": 6,
     "metadata": {},
     "output_type": "execute_result"
    }
   ],
   "source": [
    "p_s_sp_π = np.einsum('sa,sta->st', o.Π, o.P)\n",
    "df = pd.DataFrame(p_s_sp_π, columns=o.S, index=o.S)\n",
    "df.style.apply(misc.color_positive_green, mask=p_s_sp_π, axis=None).format(precision=1)"
   ]
  },
  {
   "cell_type": "code",
   "execution_count": 7,
   "id": "a6eae270-8c8b-47d1-9489-50733f44cd91",
   "metadata": {},
   "outputs": [
    {
     "data": {
      "text/plain": [
       "array([1., 1., 1., 1., 1.])"
      ]
     },
     "execution_count": 7,
     "metadata": {},
     "output_type": "execute_result"
    }
   ],
   "source": [
    "np.sum(p_s_sp_π, axis=1)"
   ]
  },
  {
   "cell_type": "markdown",
   "id": "7e869847-db78-4cf7-8586-1310ca50232f",
   "metadata": {},
   "source": [
    "## check Π"
   ]
  },
  {
   "cell_type": "code",
   "execution_count": 8,
   "id": "2c2d80b0-1599-4c85-aa83-57a3f0be745c",
   "metadata": {},
   "outputs": [
    {
     "data": {
      "text/html": [
       "<style type=\"text/css\">\n",
       "#T_3a997_row0_col0, #T_3a997_row0_col2, #T_3a997_row2_col2, #T_3a997_row2_col4, #T_3a997_row4_col5 {\n",
       "  background-color: lime;\n",
       "}\n",
       "#T_3a997_row1_col2, #T_3a997_row1_col3, #T_3a997_row3_col0, #T_3a997_row3_col1 {\n",
       "  background-color: yellow;\n",
       "}\n",
       "</style>\n",
       "<table id=\"T_3a997\">\n",
       "  <thead>\n",
       "    <tr>\n",
       "      <th class=\"blank level0\" >&nbsp;</th>\n",
       "      <th id=\"T_3a997_level0_col0\" class=\"col_heading level0 col0\" >facebook</th>\n",
       "      <th id=\"T_3a997_level0_col1\" class=\"col_heading level0 col1\" >quit</th>\n",
       "      <th id=\"T_3a997_level0_col2\" class=\"col_heading level0 col2\" >study</th>\n",
       "      <th id=\"T_3a997_level0_col3\" class=\"col_heading level0 col3\" >sleep</th>\n",
       "      <th id=\"T_3a997_level0_col4\" class=\"col_heading level0 col4\" >pub</th>\n",
       "      <th id=\"T_3a997_level0_col5\" class=\"col_heading level0 col5\" >other</th>\n",
       "    </tr>\n",
       "  </thead>\n",
       "  <tbody>\n",
       "    <tr>\n",
       "      <th id=\"T_3a997_level0_row0\" class=\"row_heading level0 row0\" >class1</th>\n",
       "      <td id=\"T_3a997_row0_col0\" class=\"data row0 col0\" >0.5</td>\n",
       "      <td id=\"T_3a997_row0_col1\" class=\"data row0 col1\" >0.0</td>\n",
       "      <td id=\"T_3a997_row0_col2\" class=\"data row0 col2\" >0.5</td>\n",
       "      <td id=\"T_3a997_row0_col3\" class=\"data row0 col3\" >0.0</td>\n",
       "      <td id=\"T_3a997_row0_col4\" class=\"data row0 col4\" >0.0</td>\n",
       "      <td id=\"T_3a997_row0_col5\" class=\"data row0 col5\" >0.0</td>\n",
       "    </tr>\n",
       "    <tr>\n",
       "      <th id=\"T_3a997_level0_row1\" class=\"row_heading level0 row1\" >class2</th>\n",
       "      <td id=\"T_3a997_row1_col0\" class=\"data row1 col0\" >0.0</td>\n",
       "      <td id=\"T_3a997_row1_col1\" class=\"data row1 col1\" >0.0</td>\n",
       "      <td id=\"T_3a997_row1_col2\" class=\"data row1 col2\" >0.5</td>\n",
       "      <td id=\"T_3a997_row1_col3\" class=\"data row1 col3\" >0.5</td>\n",
       "      <td id=\"T_3a997_row1_col4\" class=\"data row1 col4\" >0.0</td>\n",
       "      <td id=\"T_3a997_row1_col5\" class=\"data row1 col5\" >0.0</td>\n",
       "    </tr>\n",
       "    <tr>\n",
       "      <th id=\"T_3a997_level0_row2\" class=\"row_heading level0 row2\" >class3</th>\n",
       "      <td id=\"T_3a997_row2_col0\" class=\"data row2 col0\" >0.0</td>\n",
       "      <td id=\"T_3a997_row2_col1\" class=\"data row2 col1\" >0.0</td>\n",
       "      <td id=\"T_3a997_row2_col2\" class=\"data row2 col2\" >0.5</td>\n",
       "      <td id=\"T_3a997_row2_col3\" class=\"data row2 col3\" >0.0</td>\n",
       "      <td id=\"T_3a997_row2_col4\" class=\"data row2 col4\" >0.5</td>\n",
       "      <td id=\"T_3a997_row2_col5\" class=\"data row2 col5\" >0.0</td>\n",
       "    </tr>\n",
       "    <tr>\n",
       "      <th id=\"T_3a997_level0_row3\" class=\"row_heading level0 row3\" >fb</th>\n",
       "      <td id=\"T_3a997_row3_col0\" class=\"data row3 col0\" >0.5</td>\n",
       "      <td id=\"T_3a997_row3_col1\" class=\"data row3 col1\" >0.5</td>\n",
       "      <td id=\"T_3a997_row3_col2\" class=\"data row3 col2\" >0.0</td>\n",
       "      <td id=\"T_3a997_row3_col3\" class=\"data row3 col3\" >0.0</td>\n",
       "      <td id=\"T_3a997_row3_col4\" class=\"data row3 col4\" >0.0</td>\n",
       "      <td id=\"T_3a997_row3_col5\" class=\"data row3 col5\" >0.0</td>\n",
       "    </tr>\n",
       "    <tr>\n",
       "      <th id=\"T_3a997_level0_row4\" class=\"row_heading level0 row4\" >sleeping</th>\n",
       "      <td id=\"T_3a997_row4_col0\" class=\"data row4 col0\" >0.0</td>\n",
       "      <td id=\"T_3a997_row4_col1\" class=\"data row4 col1\" >0.0</td>\n",
       "      <td id=\"T_3a997_row4_col2\" class=\"data row4 col2\" >0.0</td>\n",
       "      <td id=\"T_3a997_row4_col3\" class=\"data row4 col3\" >0.0</td>\n",
       "      <td id=\"T_3a997_row4_col4\" class=\"data row4 col4\" >0.0</td>\n",
       "      <td id=\"T_3a997_row4_col5\" class=\"data row4 col5\" >1.0</td>\n",
       "    </tr>\n",
       "  </tbody>\n",
       "</table>\n"
      ],
      "text/plain": [
       "<pandas.io.formats.style.Styler at 0x11ec4e110>"
      ]
     },
     "execution_count": 8,
     "metadata": {},
     "output_type": "execute_result"
    }
   ],
   "source": [
    "df = pd.DataFrame(o.Π, columns=o.A, index=o.S)\n",
    "df.style.apply(misc.color_positive_green, mask=o.Π, axis=None).format(precision=1)"
   ]
  },
  {
   "cell_type": "markdown",
   "id": "5901b9e5-17bb-46fe-aa67-a22a45ee97d6",
   "metadata": {},
   "source": [
    "## check R"
   ]
  },
  {
   "cell_type": "code",
   "execution_count": 9,
   "id": "1f36ea4f-38b6-464a-9168-ddd11f10e01c",
   "metadata": {},
   "outputs": [
    {
     "data": {
      "text/html": [
       "<style type=\"text/css\">\n",
       "#T_cb00b_row0_col0, #T_cb00b_row0_col2, #T_cb00b_row2_col2, #T_cb00b_row2_col4 {\n",
       "  background-color: lime;\n",
       "}\n",
       "#T_cb00b_row1_col2, #T_cb00b_row3_col0 {\n",
       "  background-color: yellow;\n",
       "}\n",
       "</style>\n",
       "<table id=\"T_cb00b\">\n",
       "  <thead>\n",
       "    <tr>\n",
       "      <th class=\"blank level0\" >&nbsp;</th>\n",
       "      <th id=\"T_cb00b_level0_col0\" class=\"col_heading level0 col0\" >facebook</th>\n",
       "      <th id=\"T_cb00b_level0_col1\" class=\"col_heading level0 col1\" >quit</th>\n",
       "      <th id=\"T_cb00b_level0_col2\" class=\"col_heading level0 col2\" >study</th>\n",
       "      <th id=\"T_cb00b_level0_col3\" class=\"col_heading level0 col3\" >sleep</th>\n",
       "      <th id=\"T_cb00b_level0_col4\" class=\"col_heading level0 col4\" >pub</th>\n",
       "      <th id=\"T_cb00b_level0_col5\" class=\"col_heading level0 col5\" >other</th>\n",
       "    </tr>\n",
       "  </thead>\n",
       "  <tbody>\n",
       "    <tr>\n",
       "      <th id=\"T_cb00b_level0_row0\" class=\"row_heading level0 row0\" >class1</th>\n",
       "      <td id=\"T_cb00b_row0_col0\" class=\"data row0 col0\" >-1.0</td>\n",
       "      <td id=\"T_cb00b_row0_col1\" class=\"data row0 col1\" >0.0</td>\n",
       "      <td id=\"T_cb00b_row0_col2\" class=\"data row0 col2\" >-2.0</td>\n",
       "      <td id=\"T_cb00b_row0_col3\" class=\"data row0 col3\" >0.0</td>\n",
       "      <td id=\"T_cb00b_row0_col4\" class=\"data row0 col4\" >0.0</td>\n",
       "      <td id=\"T_cb00b_row0_col5\" class=\"data row0 col5\" >0.0</td>\n",
       "    </tr>\n",
       "    <tr>\n",
       "      <th id=\"T_cb00b_level0_row1\" class=\"row_heading level0 row1\" >class2</th>\n",
       "      <td id=\"T_cb00b_row1_col0\" class=\"data row1 col0\" >0.0</td>\n",
       "      <td id=\"T_cb00b_row1_col1\" class=\"data row1 col1\" >0.0</td>\n",
       "      <td id=\"T_cb00b_row1_col2\" class=\"data row1 col2\" >-2.0</td>\n",
       "      <td id=\"T_cb00b_row1_col3\" class=\"data row1 col3\" >0.0</td>\n",
       "      <td id=\"T_cb00b_row1_col4\" class=\"data row1 col4\" >0.0</td>\n",
       "      <td id=\"T_cb00b_row1_col5\" class=\"data row1 col5\" >0.0</td>\n",
       "    </tr>\n",
       "    <tr>\n",
       "      <th id=\"T_cb00b_level0_row2\" class=\"row_heading level0 row2\" >class3</th>\n",
       "      <td id=\"T_cb00b_row2_col0\" class=\"data row2 col0\" >0.0</td>\n",
       "      <td id=\"T_cb00b_row2_col1\" class=\"data row2 col1\" >0.0</td>\n",
       "      <td id=\"T_cb00b_row2_col2\" class=\"data row2 col2\" >10.0</td>\n",
       "      <td id=\"T_cb00b_row2_col3\" class=\"data row2 col3\" >0.0</td>\n",
       "      <td id=\"T_cb00b_row2_col4\" class=\"data row2 col4\" >1.0</td>\n",
       "      <td id=\"T_cb00b_row2_col5\" class=\"data row2 col5\" >0.0</td>\n",
       "    </tr>\n",
       "    <tr>\n",
       "      <th id=\"T_cb00b_level0_row3\" class=\"row_heading level0 row3\" >fb</th>\n",
       "      <td id=\"T_cb00b_row3_col0\" class=\"data row3 col0\" >-1.0</td>\n",
       "      <td id=\"T_cb00b_row3_col1\" class=\"data row3 col1\" >0.0</td>\n",
       "      <td id=\"T_cb00b_row3_col2\" class=\"data row3 col2\" >0.0</td>\n",
       "      <td id=\"T_cb00b_row3_col3\" class=\"data row3 col3\" >0.0</td>\n",
       "      <td id=\"T_cb00b_row3_col4\" class=\"data row3 col4\" >0.0</td>\n",
       "      <td id=\"T_cb00b_row3_col5\" class=\"data row3 col5\" >0.0</td>\n",
       "    </tr>\n",
       "    <tr>\n",
       "      <th id=\"T_cb00b_level0_row4\" class=\"row_heading level0 row4\" >sleeping</th>\n",
       "      <td id=\"T_cb00b_row4_col0\" class=\"data row4 col0\" >0.0</td>\n",
       "      <td id=\"T_cb00b_row4_col1\" class=\"data row4 col1\" >0.0</td>\n",
       "      <td id=\"T_cb00b_row4_col2\" class=\"data row4 col2\" >0.0</td>\n",
       "      <td id=\"T_cb00b_row4_col3\" class=\"data row4 col3\" >0.0</td>\n",
       "      <td id=\"T_cb00b_row4_col4\" class=\"data row4 col4\" >0.0</td>\n",
       "      <td id=\"T_cb00b_row4_col5\" class=\"data row4 col5\" >0.0</td>\n",
       "    </tr>\n",
       "  </tbody>\n",
       "</table>\n"
      ],
      "text/plain": [
       "<pandas.io.formats.style.Styler at 0x11ec4dff0>"
      ]
     },
     "execution_count": 9,
     "metadata": {},
     "output_type": "execute_result"
    }
   ],
   "source": [
    "df = pd.DataFrame(o.R, columns=o.A, index=o.S)\n",
    "df.style.apply(misc.color_positive_green, mask=o.R, axis=None).format(precision=1)"
   ]
  },
  {
   "cell_type": "code",
   "execution_count": 10,
   "id": "37121230-8492-4590-ba9a-1e3d30f8aa3f",
   "metadata": {},
   "outputs": [
    {
     "data": {
      "text/plain": [
       "array([-1.5, -1. ,  5.5, -0.5,  0. ])"
      ]
     },
     "execution_count": 10,
     "metadata": {},
     "output_type": "execute_result"
    }
   ],
   "source": [
    "np.einsum('sa,sa->s', o.Π, o.R)"
   ]
  },
  {
   "cell_type": "code",
   "execution_count": null,
   "id": "c02afa01-4708-48fa-bf7e-a6a56fa61509",
   "metadata": {},
   "outputs": [],
   "source": []
  }
 ],
 "metadata": {
  "kernelspec": {
   "display_name": "Python 3 (ipykernel)",
   "language": "python",
   "name": "python3"
  },
  "language_info": {
   "codemirror_mode": {
    "name": "ipython",
    "version": 3
   },
   "file_extension": ".py",
   "mimetype": "text/x-python",
   "name": "python",
   "nbconvert_exporter": "python",
   "pygments_lexer": "ipython3",
   "version": "3.10.6"
  }
 },
 "nbformat": 4,
 "nbformat_minor": 5
}
